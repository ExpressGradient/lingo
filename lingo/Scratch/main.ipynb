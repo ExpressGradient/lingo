{
 "cells": [
  {
   "cell_type": "code",
   "execution_count": 52,
   "metadata": {},
   "outputs": [],
   "source": [
    "import torch\n",
    "import torch.nn as nn\n",
    "from torch.utils.data import Dataset, DataLoader\n",
    "\n",
    "import tiktoken\n",
    "import matplotlib.pyplot as plt\n",
    "\n",
    "from utils import (\n",
    "    compute_batch_loss,\n",
    "    evaluate_model,\n",
    "    text_to_token_ids,\n",
    "    token_ids_to_text,\n",
    "    generate_text,\n",
    ")"
   ]
  },
  {
   "cell_type": "code",
   "execution_count": 24,
   "metadata": {},
   "outputs": [
    {
     "data": {
      "text/plain": [
       "(True, 'NVIDIA T1200 Laptop GPU')"
      ]
     },
     "execution_count": 24,
     "metadata": {},
     "output_type": "execute_result"
    }
   ],
   "source": [
    "torch.cuda.is_available(), torch.cuda.get_device_name()"
   ]
  },
  {
   "cell_type": "code",
   "execution_count": 25,
   "metadata": {},
   "outputs": [
    {
     "data": {
      "text/plain": [
       "39181"
      ]
     },
     "execution_count": 25,
     "metadata": {},
     "output_type": "execute_result"
    }
   ],
   "source": [
    "with open(\"./the_things.txt\", encoding=\"utf-8\") as file:\n",
    "    raw_text = file.read()\n",
    "\n",
    "len(raw_text)"
   ]
  },
  {
   "cell_type": "code",
   "execution_count": 26,
   "metadata": {},
   "outputs": [],
   "source": [
    "tokenizer = tiktoken.get_encoding(\"gpt2\")"
   ]
  },
  {
   "cell_type": "code",
   "execution_count": 27,
   "metadata": {},
   "outputs": [
    {
     "data": {
      "text/plain": [
       "9275"
      ]
     },
     "execution_count": 27,
     "metadata": {},
     "output_type": "execute_result"
    }
   ],
   "source": [
    "token_ids = tokenizer.encode(raw_text)\n",
    "len(token_ids)"
   ]
  },
  {
   "cell_type": "code",
   "execution_count": 28,
   "metadata": {},
   "outputs": [],
   "source": [
    "class BookDataset(Dataset):\n",
    "    def __init__(self, token_ids, max_length, stride):\n",
    "        self.input_ids = []\n",
    "        self.target_ids = []\n",
    "\n",
    "        for i in range(0, len(token_ids) - max_length, stride):\n",
    "            self.input_ids.append(torch.tensor(token_ids[i : i + max_length]))\n",
    "            self.target_ids.append(torch.tensor(token_ids[i + 1 : i + 1 + max_length]))\n",
    "\n",
    "    def __len__(self):\n",
    "        return len(self.input_ids)\n",
    "\n",
    "    def __getitem__(self, index):\n",
    "        return self.input_ids[index], self.target_ids[index]"
   ]
  },
  {
   "cell_type": "code",
   "execution_count": 29,
   "metadata": {},
   "outputs": [],
   "source": [
    "split_ratio = 0.85\n",
    "split_index = int(split_ratio * len(raw_text))"
   ]
  },
  {
   "cell_type": "code",
   "execution_count": 30,
   "metadata": {},
   "outputs": [],
   "source": [
    "train_tokens = tokenizer.encode(raw_text[:split_index])\n",
    "valid_tokens = tokenizer.encode(raw_text[split_index:])"
   ]
  },
  {
   "cell_type": "code",
   "execution_count": 31,
   "metadata": {},
   "outputs": [],
   "source": [
    "train_ds = BookDataset(train_tokens, 256, 128)\n",
    "valid_ds = BookDataset(valid_tokens, 256, 128)"
   ]
  },
  {
   "cell_type": "code",
   "execution_count": 32,
   "metadata": {},
   "outputs": [],
   "source": [
    "train_loader = DataLoader(train_ds, batch_size=4, shuffle=True, drop_last=True)\n",
    "valid_loader = DataLoader(valid_ds, batch_size=4, shuffle=False, drop_last=False)"
   ]
  },
  {
   "cell_type": "code",
   "execution_count": 33,
   "metadata": {},
   "outputs": [],
   "source": [
    "GPT_CONFIG = {\n",
    "    \"vocab_size\": tokenizer.n_vocab,\n",
    "    \"context_length\": 256,\n",
    "    \"embed_dim\": 768,\n",
    "    \"num_heads\": 12,\n",
    "    \"num_layers\": 12,\n",
    "    \"dropout_rate\": 0.1,\n",
    "    \"qkv_bias\": False,\n",
    "}"
   ]
  },
  {
   "cell_type": "code",
   "execution_count": 34,
   "metadata": {},
   "outputs": [],
   "source": [
    "class MultiHeadAttention(nn.Module):\n",
    "    def __init__(\n",
    "        self, in_dim, out_dim, context_length, dropout, num_heads, qkv_bias=False\n",
    "    ):\n",
    "        super().__init__()\n",
    "        assert out_dim % num_heads == 0, \"out_dim must be divisible by num_heads\"\n",
    "\n",
    "        self.out_dim = out_dim\n",
    "        self.num_heads = num_heads\n",
    "        self.head_dim = out_dim // num_heads\n",
    "\n",
    "        self.query_weight = nn.Linear(in_dim, out_dim, bias=qkv_bias)\n",
    "        self.key_weight = nn.Linear(in_dim, out_dim, bias=qkv_bias)\n",
    "        self.value_weight = nn.Linear(in_dim, out_dim, bias=qkv_bias)\n",
    "\n",
    "        self.output_projection = nn.Linear(out_dim, out_dim)\n",
    "        self.dropout = nn.Dropout(dropout)\n",
    "\n",
    "        self.register_buffer(\n",
    "            \"mask\", torch.triu(torch.ones(context_length, context_length), diagonal=1)\n",
    "        )\n",
    "\n",
    "    def forward(self, x):\n",
    "        batch_size, num_tokens, in_dim = x.shape\n",
    "\n",
    "        keys = self.key_weight(x)\n",
    "        queries = self.query_weight(x)\n",
    "        values = self.value_weight(x)\n",
    "\n",
    "        # Split the weights to have qkv for each head\n",
    "        keys = keys.view(batch_size, num_tokens, self.num_heads, self.head_dim)\n",
    "        queries = queries.view(batch_size, num_tokens, self.num_heads, self.head_dim)\n",
    "        values = values.view(batch_size, num_tokens, self.num_heads, self.head_dim)\n",
    "\n",
    "        keys = keys.transpose(1, 2)\n",
    "        queries = queries.transpose(1, 2)\n",
    "        values = values.transpose(1, 2)\n",
    "\n",
    "        attention_scores = queries @ keys.transpose(2, 3)\n",
    "\n",
    "        mask_bool = self.mask.bool()[:num_tokens, :num_tokens]\n",
    "\n",
    "        attention_scores = attention_scores.masked_fill(mask_bool, -torch.inf)\n",
    "\n",
    "        attention_weights = torch.softmax(\n",
    "            attention_scores / keys.shape[-1] ** 0.5, dim=-1\n",
    "        )\n",
    "        attention_weights = self.dropout(attention_weights)\n",
    "\n",
    "        context_vector = (attention_weights @ values).transpose(1, 2)\n",
    "        context_vector = context_vector.contiguous().view(\n",
    "            batch_size, num_tokens, self.out_dim\n",
    "        )\n",
    "        context_vector = self.output_projection(context_vector)\n",
    "\n",
    "        return context_vector"
   ]
  },
  {
   "cell_type": "code",
   "execution_count": 35,
   "metadata": {},
   "outputs": [],
   "source": [
    "class LayerNorm(nn.Module):\n",
    "    def __init__(self, embed_dim):\n",
    "        super().__init__()\n",
    "\n",
    "        self.epsilon = 1e-5\n",
    "        self.scale = nn.Parameter(torch.ones(embed_dim))\n",
    "        self.shift = nn.Parameter(torch.zeros(embed_dim))\n",
    "\n",
    "    def forward(self, x):\n",
    "        x_mean = x.mean(dim=-1, keepdim=True)\n",
    "        x_variance = x.var(dim=-1, keepdim=True)\n",
    "        x_norm = (x - x_mean) / torch.sqrt(x_variance + self.epsilon)\n",
    "\n",
    "        return self.scale * x_norm + self.shift"
   ]
  },
  {
   "cell_type": "code",
   "execution_count": 36,
   "metadata": {},
   "outputs": [],
   "source": [
    "class GELU(nn.Module):\n",
    "    def __init__(self):\n",
    "        super().__init__()\n",
    "\n",
    "    def forward(self, x):\n",
    "        return (\n",
    "            0.5\n",
    "            * x\n",
    "            * (\n",
    "                1\n",
    "                + torch.tanh(\n",
    "                    torch.sqrt(torch.tensor(2.0 / torch.pi))\n",
    "                    * (x + 0.044715 * torch.pow(x, 3))\n",
    "                )\n",
    "            )\n",
    "        )"
   ]
  },
  {
   "cell_type": "code",
   "execution_count": 37,
   "metadata": {},
   "outputs": [],
   "source": [
    "class FeedForward(nn.Module):\n",
    "    def __init__(self, embed_dim):\n",
    "        super().__init__()\n",
    "\n",
    "        self.layers = nn.Sequential(\n",
    "            nn.Linear(embed_dim, 4 * embed_dim),\n",
    "            GELU(),\n",
    "            nn.Linear(4 * embed_dim, embed_dim),\n",
    "        )\n",
    "\n",
    "    def forward(self, x):\n",
    "        return self.layers(x)"
   ]
  },
  {
   "cell_type": "code",
   "execution_count": 38,
   "metadata": {},
   "outputs": [],
   "source": [
    "class Transformer(nn.Module):\n",
    "    def __init__(self, config):\n",
    "        super().__init__()\n",
    "\n",
    "        self.mha = MultiHeadAttention(\n",
    "            in_dim=config[\"embed_dim\"],\n",
    "            out_dim=config[\"embed_dim\"],\n",
    "            context_length=config[\"context_length\"],\n",
    "            dropout=config[\"dropout_rate\"],\n",
    "            num_heads=config[\"num_heads\"],\n",
    "            qkv_bias=config[\"qkv_bias\"],\n",
    "        )\n",
    "\n",
    "        self.ffn = FeedForward(config[\"embed_dim\"])\n",
    "\n",
    "        self.norm1 = LayerNorm(config[\"embed_dim\"])\n",
    "        self.norm2 = LayerNorm(config[\"embed_dim\"])\n",
    "\n",
    "        self.shortcut_dropout = nn.Dropout(config[\"dropout_rate\"])\n",
    "\n",
    "    def forward(self, x):\n",
    "        shortcut = x\n",
    "        x = self.norm1(x)\n",
    "        x = self.mha(x)\n",
    "        x = self.shortcut_dropout(x)\n",
    "        x += shortcut\n",
    "\n",
    "        shortcut = x\n",
    "        x = self.norm2(x)\n",
    "        x = self.ffn(x)\n",
    "        x = self.shortcut_dropout(x)\n",
    "        x += shortcut\n",
    "\n",
    "        return x"
   ]
  },
  {
   "cell_type": "code",
   "execution_count": 39,
   "metadata": {},
   "outputs": [],
   "source": [
    "class BookGPT(nn.Module):\n",
    "    def __init__(self, config):\n",
    "        super().__init__()\n",
    "\n",
    "        self.token_embedding = nn.Embedding(config[\"vocab_size\"], config[\"embed_dim\"])\n",
    "        self.position_embedding = nn.Embedding(\n",
    "            config[\"context_length\"], config[\"embed_dim\"]\n",
    "        )\n",
    "\n",
    "        self.dropout = nn.Dropout(config[\"dropout_rate\"])\n",
    "\n",
    "        self.transformers = nn.Sequential(\n",
    "            *[Transformer(config) for _ in range(config[\"num_layers\"])]\n",
    "        )\n",
    "\n",
    "        self.norm = LayerNorm(config[\"embed_dim\"])\n",
    "        self.out_head = nn.Linear(config[\"embed_dim\"], config[\"vocab_size\"], bias=False)\n",
    "\n",
    "    def forward(self, x):\n",
    "        batch_size, seq_len = x.shape\n",
    "\n",
    "        token_embeds = self.token_embedding(x)\n",
    "        position_embeds = self.position_embedding(\n",
    "            torch.arange(seq_len, device=x.device)\n",
    "        )\n",
    "\n",
    "        x = token_embeds + position_embeds\n",
    "        x = self.dropout(x)\n",
    "        x = self.transformers(x)\n",
    "        x = self.norm(x)\n",
    "        logits = self.out_head(x)\n",
    "\n",
    "        return logits"
   ]
  },
  {
   "cell_type": "code",
   "execution_count": null,
   "metadata": {},
   "outputs": [],
   "source": [
    "model = BookGPT(GPT_CONFIG)\n",
    "model.to(\"cuda\")"
   ]
  },
  {
   "cell_type": "code",
   "execution_count": 41,
   "metadata": {},
   "outputs": [],
   "source": [
    "train_losses, valid_losses, track_tokens_seen = [], [], []\n",
    "tokens_seen = 0\n",
    "global_step = -1"
   ]
  },
  {
   "cell_type": "code",
   "execution_count": 42,
   "metadata": {},
   "outputs": [],
   "source": [
    "num_epochs = 10\n",
    "optimizer = torch.optim.AdamW(params=model.parameters(), lr=5e-4, weight_decay=0.1)\n",
    "eval_freq = 10\n",
    "eval_iter = 5"
   ]
  },
  {
   "cell_type": "code",
   "execution_count": 43,
   "metadata": {},
   "outputs": [
    {
     "name": "stdout",
     "output_type": "stream",
     "text": [
      "Ep 1 (Step 000000): Train loss 9.485, Val loss 9.422\n",
      "Ep 1 (Step 000010): Train loss 6.167, Val loss 6.735\n",
      "Ep 2 (Step 000020): Train loss 5.672, Val loss 6.678\n",
      "Ep 3 (Step 000030): Train loss 4.980, Val loss 6.459\n",
      "Ep 3 (Step 000040): Train loss 3.905, Val loss 6.387\n",
      "Ep 4 (Step 000050): Train loss 3.351, Val loss 6.412\n",
      "Ep 5 (Step 000060): Train loss 2.731, Val loss 6.451\n",
      "Ep 6 (Step 000070): Train loss 1.895, Val loss 6.509\n",
      "Ep 6 (Step 000080): Train loss 1.437, Val loss 6.669\n",
      "Ep 7 (Step 000090): Train loss 0.939, Val loss 6.802\n",
      "Ep 8 (Step 000100): Train loss 0.674, Val loss 6.960\n",
      "Ep 8 (Step 000110): Train loss 0.421, Val loss 7.040\n",
      "Ep 9 (Step 000120): Train loss 0.327, Val loss 7.253\n",
      "Ep 10 (Step 000130): Train loss 0.196, Val loss 7.386\n"
     ]
    }
   ],
   "source": [
    "for epoch in range(num_epochs):\n",
    "    model.train()\n",
    "\n",
    "    for input_batch, target_batch in train_loader:\n",
    "\n",
    "        optimizer.zero_grad()\n",
    "\n",
    "        loss = compute_batch_loss(input_batch, target_batch, model)\n",
    "        loss.backward()\n",
    "\n",
    "        optimizer.step()\n",
    "\n",
    "        tokens_seen += input_batch.numel()\n",
    "        global_step += 1\n",
    "\n",
    "        if global_step % eval_freq == 0:\n",
    "            train_loss, valid_loss = evaluate_model(\n",
    "                train_loader, valid_loader, model, eval_iter\n",
    "            )\n",
    "\n",
    "            train_losses.append(train_loss)\n",
    "            valid_losses.append(valid_loss)\n",
    "            track_tokens_seen.append(tokens_seen)\n",
    "\n",
    "            print(\n",
    "                f\"Epoch {epoch+1} (Step {global_step:06d}): \"\n",
    "                f\"Train loss {train_loss:.3f}, Val loss {valid_loss:.3f}\"\n",
    "            )"
   ]
  },
  {
   "cell_type": "code",
   "execution_count": 44,
   "metadata": {},
   "outputs": [],
   "source": [
    "torch.save(model.state_dict(), \"./weights/book_gpt.pth\")"
   ]
  },
  {
   "cell_type": "code",
   "execution_count": 46,
   "metadata": {},
   "outputs": [
    {
     "data": {
      "image/png": "[encoded data removed]",
      "text/plain": [
       "<Figure size 640x480 with 2 Axes>"
      ]
     },
     "metadata": {},
     "output_type": "display_data"
    }
   ],
   "source": [
    "fig, ax1 = plt.subplots()\n",
    "\n",
    "epochs_seen = torch.linspace(0, num_epochs, len(train_losses))\n",
    "\n",
    "ax1.plot(epochs_seen, train_losses, label=\"Training Loss\")\n",
    "ax1.plot(epochs_seen, valid_losses, linestyle=\"-.\", label=\"Validation Loss\")\n",
    "ax1.set_xlabel(\"Epochs\")\n",
    "ax1.set_ylabel(\"Loss\")\n",
    "ax1.legend(loc=\"upper right\")\n",
    "\n",
    "ax2 = ax1.twiny()\n",
    "ax2.plot(track_tokens_seen, train_losses, alpha=0)\n",
    "ax2.set_xlabel(\"#Tokens seen\")\n",
    "\n",
    "fig.tight_layout()\n",
    "plt.show()"
   ]
  },
  {
   "cell_type": "markdown",
   "metadata": {},
   "source": [
    "## Demo"
   ]
  },
  {
   "cell_type": "code",
   "execution_count": 56,
   "metadata": {},
   "outputs": [],
   "source": [
    "sample = \"The world has found me out\"\n",
    "input_ids = text_to_token_ids(sample, tokenizer)"
   ]
  },
  {
   "cell_type": "code",
   "execution_count": 57,
   "metadata": {},
   "outputs": [
    {
     "name": "stderr",
     "output_type": "stream",
     "text": [
      "C:\\Users\\SaiPraneethDiddigam\\AppData\\Local\\Temp\\ipykernel_15816\\3236077247.py:1: FutureWarning: You are using `torch.load` with `weights_only=False` (the current default value), which uses the default pickle module implicitly. It is possible to construct malicious pickle data which will execute arbitrary code during unpickling (See https://github.com/pytorch/pytorch/blob/main/SECURITY.md#untrusted-models for more details). In a future release, the default value for `weights_only` will be flipped to `True`. This limits the functions that could be executed during unpickling. Arbitrary objects will no longer be allowed to be loaded via this mode unless they are explicitly allowlisted by the user via `torch.serialization.add_safe_globals`. We recommend you start setting `weights_only=True` for any use case where you don't have full control of the loaded file. Please open an issue on GitHub for any issues related to this experimental feature.\n",
      "  checkpoint = torch.load(\"./weights/book_gpt.pth\")\n"
     ]
    },
    {
     "data": {
      "text/plain": [
       "BookGPT(\n",
       "  (token_embedding): Embedding(50257, 768)\n",
       "  (position_embedding): Embedding(256, 768)\n",
       "  (dropout): Dropout(p=0.1, inplace=False)\n",
       "  (transformers): Sequential(\n",
       "    (0): Transformer(\n",
       "      (mha): MultiHeadAttention(\n",
       "        (query_weight): Linear(in_features=768, out_features=768, bias=False)\n",
       "        (key_weight): Linear(in_features=768, out_features=768, bias=False)\n",
       "        (value_weight): Linear(in_features=768, out_features=768, bias=False)\n",
       "        (output_projection): Linear(in_features=768, out_features=768, bias=True)\n",
       "        (dropout): Dropout(p=0.1, inplace=False)\n",
       "      )\n",
       "      (ffn): FeedForward(\n",
       "        (layers): Sequential(\n",
       "          (0): Linear(in_features=768, out_features=3072, bias=True)\n",
       "          (1): GELU()\n",
       "          (2): Linear(in_features=3072, out_features=768, bias=True)\n",
       "        )\n",
       "      )\n",
       "      (norm1): LayerNorm()\n",
       "      (norm2): LayerNorm()\n",
       "      (shortcut_dropout): Dropout(p=0.1, inplace=False)\n",
       "    )\n",
       "    (1): Transformer(\n",
       "      (mha): MultiHeadAttention(\n",
       "        (query_weight): Linear(in_features=768, out_features=768, bias=False)\n",
       "        (key_weight): Linear(in_features=768, out_features=768, bias=False)\n",
       "        (value_weight): Linear(in_features=768, out_features=768, bias=False)\n",
       "        (output_projection): Linear(in_features=768, out_features=768, bias=True)\n",
       "        (dropout): Dropout(p=0.1, inplace=False)\n",
       "      )\n",
       "      (ffn): FeedForward(\n",
       "        (layers): Sequential(\n",
       "          (0): Linear(in_features=768, out_features=3072, bias=True)\n",
       "          (1): GELU()\n",
       "          (2): Linear(in_features=3072, out_features=768, bias=True)\n",
       "        )\n",
       "      )\n",
       "      (norm1): LayerNorm()\n",
       "      (norm2): LayerNorm()\n",
       "      (shortcut_dropout): Dropout(p=0.1, inplace=False)\n",
       "    )\n",
       "    (2): Transformer(\n",
       "      (mha): MultiHeadAttention(\n",
       "        (query_weight): Linear(in_features=768, out_features=768, bias=False)\n",
       "        (key_weight): Linear(in_features=768, out_features=768, bias=False)\n",
       "        (value_weight): Linear(in_features=768, out_features=768, bias=False)\n",
       "        (output_projection): Linear(in_features=768, out_features=768, bias=True)\n",
       "        (dropout): Dropout(p=0.1, inplace=False)\n",
       "      )\n",
       "      (ffn): FeedForward(\n",
       "        (layers): Sequential(\n",
       "          (0): Linear(in_features=768, out_features=3072, bias=True)\n",
       "          (1): GELU()\n",
       "          (2): Linear(in_features=3072, out_features=768, bias=True)\n",
       "        )\n",
       "      )\n",
       "      (norm1): LayerNorm()\n",
       "      (norm2): LayerNorm()\n",
       "      (shortcut_dropout): Dropout(p=0.1, inplace=False)\n",
       "    )\n",
       "    (3): Transformer(\n",
       "      (mha): MultiHeadAttention(\n",
       "        (query_weight): Linear(in_features=768, out_features=768, bias=False)\n",
       "        (key_weight): Linear(in_features=768, out_features=768, bias=False)\n",
       "        (value_weight): Linear(in_features=768, out_features=768, bias=False)\n",
       "        (output_projection): Linear(in_features=768, out_features=768, bias=True)\n",
       "        (dropout): Dropout(p=0.1, inplace=False)\n",
       "      )\n",
       "      (ffn): FeedForward(\n",
       "        (layers): Sequential(\n",
       "          (0): Linear(in_features=768, out_features=3072, bias=True)\n",
       "          (1): GELU()\n",
       "          (2): Linear(in_features=3072, out_features=768, bias=True)\n",
       "        )\n",
       "      )\n",
       "      (norm1): LayerNorm()\n",
       "      (norm2): LayerNorm()\n",
       "      (shortcut_dropout): Dropout(p=0.1, inplace=False)\n",
       "    )\n",
       "    (4): Transformer(\n",
       "      (mha): MultiHeadAttention(\n",
       "        (query_weight): Linear(in_features=768, out_features=768, bias=False)\n",
       "        (key_weight): Linear(in_features=768, out_features=768, bias=False)\n",
       "        (value_weight): Linear(in_features=768, out_features=768, bias=False)\n",
       "        (output_projection): Linear(in_features=768, out_features=768, bias=True)\n",
       "        (dropout): Dropout(p=0.1, inplace=False)\n",
       "      )\n",
       "      (ffn): FeedForward(\n",
       "        (layers): Sequential(\n",
       "          (0): Linear(in_features=768, out_features=3072, bias=True)\n",
       "          (1): GELU()\n",
       "          (2): Linear(in_features=3072, out_features=768, bias=True)\n",
       "        )\n",
       "      )\n",
       "      (norm1): LayerNorm()\n",
       "      (norm2): LayerNorm()\n",
       "      (shortcut_dropout): Dropout(p=0.1, inplace=False)\n",
       "    )\n",
       "    (5): Transformer(\n",
       "      (mha): MultiHeadAttention(\n",
       "        (query_weight): Linear(in_features=768, out_features=768, bias=False)\n",
       "        (key_weight): Linear(in_features=768, out_features=768, bias=False)\n",
       "        (value_weight): Linear(in_features=768, out_features=768, bias=False)\n",
       "        (output_projection): Linear(in_features=768, out_features=768, bias=True)\n",
       "        (dropout): Dropout(p=0.1, inplace=False)\n",
       "      )\n",
       "      (ffn): FeedForward(\n",
       "        (layers): Sequential(\n",
       "          (0): Linear(in_features=768, out_features=3072, bias=True)\n",
       "          (1): GELU()\n",
       "          (2): Linear(in_features=3072, out_features=768, bias=True)\n",
       "        )\n",
       "      )\n",
       "      (norm1): LayerNorm()\n",
       "      (norm2): LayerNorm()\n",
       "      (shortcut_dropout): Dropout(p=0.1, inplace=False)\n",
       "    )\n",
       "    (6): Transformer(\n",
       "      (mha): MultiHeadAttention(\n",
       "        (query_weight): Linear(in_features=768, out_features=768, bias=False)\n",
       "        (key_weight): Linear(in_features=768, out_features=768, bias=False)\n",
       "        (value_weight): Linear(in_features=768, out_features=768, bias=False)\n",
       "        (output_projection): Linear(in_features=768, out_features=768, bias=True)\n",
       "        (dropout): Dropout(p=0.1, inplace=False)\n",
       "      )\n",
       "      (ffn): FeedForward(\n",
       "        (layers): Sequential(\n",
       "          (0): Linear(in_features=768, out_features=3072, bias=True)\n",
       "          (1): GELU()\n",
       "          (2): Linear(in_features=3072, out_features=768, bias=True)\n",
       "        )\n",
       "      )\n",
       "      (norm1): LayerNorm()\n",
       "      (norm2): LayerNorm()\n",
       "      (shortcut_dropout): Dropout(p=0.1, inplace=False)\n",
       "    )\n",
       "    (7): Transformer(\n",
       "      (mha): MultiHeadAttention(\n",
       "        (query_weight): Linear(in_features=768, out_features=768, bias=False)\n",
       "        (key_weight): Linear(in_features=768, out_features=768, bias=False)\n",
       "        (value_weight): Linear(in_features=768, out_features=768, bias=False)\n",
       "        (output_projection): Linear(in_features=768, out_features=768, bias=True)\n",
       "        (dropout): Dropout(p=0.1, inplace=False)\n",
       "      )\n",
       "      (ffn): FeedForward(\n",
       "        (layers): Sequential(\n",
       "          (0): Linear(in_features=768, out_features=3072, bias=True)\n",
       "          (1): GELU()\n",
       "          (2): Linear(in_features=3072, out_features=768, bias=True)\n",
       "        )\n",
       "      )\n",
       "      (norm1): LayerNorm()\n",
       "      (norm2): LayerNorm()\n",
       "      (shortcut_dropout): Dropout(p=0.1, inplace=False)\n",
       "    )\n",
       "    (8): Transformer(\n",
       "      (mha): MultiHeadAttention(\n",
       "        (query_weight): Linear(in_features=768, out_features=768, bias=False)\n",
       "        (key_weight): Linear(in_features=768, out_features=768, bias=False)\n",
       "        (value_weight): Linear(in_features=768, out_features=768, bias=False)\n",
       "        (output_projection): Linear(in_features=768, out_features=768, bias=True)\n",
       "        (dropout): Dropout(p=0.1, inplace=False)\n",
       "      )\n",
       "      (ffn): FeedForward(\n",
       "        (layers): Sequential(\n",
       "          (0): Linear(in_features=768, out_features=3072, bias=True)\n",
       "          (1): GELU()\n",
       "          (2): Linear(in_features=3072, out_features=768, bias=True)\n",
       "        )\n",
       "      )\n",
       "      (norm1): LayerNorm()\n",
       "      (norm2): LayerNorm()\n",
       "      (shortcut_dropout): Dropout(p=0.1, inplace=False)\n",
       "    )\n",
       "    (9): Transformer(\n",
       "      (mha): MultiHeadAttention(\n",
       "        (query_weight): Linear(in_features=768, out_features=768, bias=False)\n",
       "        (key_weight): Linear(in_features=768, out_features=768, bias=False)\n",
       "        (value_weight): Linear(in_features=768, out_features=768, bias=False)\n",
       "        (output_projection): Linear(in_features=768, out_features=768, bias=True)\n",
       "        (dropout): Dropout(p=0.1, inplace=False)\n",
       "      )\n",
       "      (ffn): FeedForward(\n",
       "        (layers): Sequential(\n",
       "          (0): Linear(in_features=768, out_features=3072, bias=True)\n",
       "          (1): GELU()\n",
       "          (2): Linear(in_features=3072, out_features=768, bias=True)\n",
       "        )\n",
       "      )\n",
       "      (norm1): LayerNorm()\n",
       "      (norm2): LayerNorm()\n",
       "      (shortcut_dropout): Dropout(p=0.1, inplace=False)\n",
       "    )\n",
       "    (10): Transformer(\n",
       "      (mha): MultiHeadAttention(\n",
       "        (query_weight): Linear(in_features=768, out_features=768, bias=False)\n",
       "        (key_weight): Linear(in_features=768, out_features=768, bias=False)\n",
       "        (value_weight): Linear(in_features=768, out_features=768, bias=False)\n",
       "        (output_projection): Linear(in_features=768, out_features=768, bias=True)\n",
       "        (dropout): Dropout(p=0.1, inplace=False)\n",
       "      )\n",
       "      (ffn): FeedForward(\n",
       "        (layers): Sequential(\n",
       "          (0): Linear(in_features=768, out_features=3072, bias=True)\n",
       "          (1): GELU()\n",
       "          (2): Linear(in_features=3072, out_features=768, bias=True)\n",
       "        )\n",
       "      )\n",
       "      (norm1): LayerNorm()\n",
       "      (norm2): LayerNorm()\n",
       "      (shortcut_dropout): Dropout(p=0.1, inplace=False)\n",
       "    )\n",
       "    (11): Transformer(\n",
       "      (mha): MultiHeadAttention(\n",
       "        (query_weight): Linear(in_features=768, out_features=768, bias=False)\n",
       "        (key_weight): Linear(in_features=768, out_features=768, bias=False)\n",
       "        (value_weight): Linear(in_features=768, out_features=768, bias=False)\n",
       "        (output_projection): Linear(in_features=768, out_features=768, bias=True)\n",
       "        (dropout): Dropout(p=0.1, inplace=False)\n",
       "      )\n",
       "      (ffn): FeedForward(\n",
       "        (layers): Sequential(\n",
       "          (0): Linear(in_features=768, out_features=3072, bias=True)\n",
       "          (1): GELU()\n",
       "          (2): Linear(in_features=3072, out_features=768, bias=True)\n",
       "        )\n",
       "      )\n",
       "      (norm1): LayerNorm()\n",
       "      (norm2): LayerNorm()\n",
       "      (shortcut_dropout): Dropout(p=0.1, inplace=False)\n",
       "    )\n",
       "  )\n",
       "  (norm): LayerNorm()\n",
       "  (out_head): Linear(in_features=768, out_features=50257, bias=False)\n",
       ")"
      ]
     },
     "execution_count": 57,
     "metadata": {},
     "output_type": "execute_result"
    }
   ],
   "source": [
    "checkpoint = torch.load(\"./weights/book_gpt.pth\")\n",
    "model = BookGPT(GPT_CONFIG)\n",
    "model.load_state_dict(checkpoint)\n",
    "model.eval()"
   ]
  },
  {
   "cell_type": "code",
   "execution_count": 70,
   "metadata": {},
   "outputs": [],
   "source": [
    "output_ids = generate_text(\n",
    "    model, input_ids, max_tokens=200, context_length=100, temperature=0.3\n",
    ")"
   ]
  },
  {
   "cell_type": "code",
   "execution_count": 71,
   "metadata": {},
   "outputs": [],
   "source": [
    "generated_text = token_ids_to_text(output_ids, tokenizer)"
   ]
  },
  {
   "cell_type": "code",
   "execution_count": 72,
   "metadata": {},
   "outputs": [],
   "source": [
    "with open(\"./generated.txt\", \"w\") as file:\n",
    "    file.write(generated_text)"
   ]
  },
  {
   "cell_type": "code",
   "execution_count": null,
   "metadata": {},
   "outputs": [],
   "source": []
  }
 ],
 "metadata": {
  "kernelspec": {
   "display_name": ".venv",
   "language": "python",
   "name": "python3"
  },
  "language_info": {
   "codemirror_mode": {
    "name": "ipython",
    "version": 3
   },
   "file_extension": ".py",
   "mimetype": "text/x-python",
   "name": "python",
   "nbconvert_exporter": "python",
   "pygments_lexer": "ipython3",
   "version": "3.11.1"
  }
 },
 "nbformat": 4,
 "nbformat_minor": 2
}
