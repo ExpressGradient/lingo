{
 "cells": [
  {
   "cell_type": "code",
   "execution_count": 28,
   "id": "c2f71e19-ae63-4b2f-afdc-921221b2347a",
   "metadata": {},
   "outputs": [],
   "source": [
    "import torch\n",
    "import torch.nn as nn\n",
    "\n",
    "import lightning as L\n",
    "\n",
    "import tiktoken"
   ]
  },
  {
   "cell_type": "code",
   "execution_count": 29,
   "id": "3c9dfd97-769c-4e5e-9c38-b4edb433b9e7",
   "metadata": {},
   "outputs": [],
   "source": [
    "encodings = tiktoken.get_encoding('p50k_base')"
   ]
  },
  {
   "cell_type": "code",
   "execution_count": 33,
   "id": "9fa85a78-1b2c-4bc9-bd98-30924d10c41f",
   "metadata": {},
   "outputs": [],
   "source": [
    "vocab_size = encodings.n_vocab\n",
    "embed_dim = 256\n",
    "max_seq_len = 512"
   ]
  },
  {
   "cell_type": "code",
   "execution_count": 36,
   "id": "26acae0c-3c7c-44a2-937a-3a9b37b94671",
   "metadata": {},
   "outputs": [],
   "source": [
    "class SQLGen(L.LightningModule):\n",
    "    def __init__(self, vocab_size, embed_dim, max_seq_len):\n",
    "        super().__init__()\n",
    "        \n",
    "        self.token_embeddings = nn.Embedding(vocab_size, embed_dim)\n",
    "        self.position_embeddings = nn.Embedding(max_seq_len, embed_dim)\n",
    "\n",
    "    def training_step(self, batch, batch_idx):\n",
    "        token_embeds = self.token_embeddings(batch)\n",
    "\n",
    "        positions = torch.arange(0, batch.size(1)).expand(batch.size(0), batch.size(1))\n",
    "        position_embeds = self.position_embeddings(positions)\n",
    "\n",
    "        embeds = token_embeds + position_embeds"
   ]
  },
  {
   "cell_type": "code",
   "execution_count": null,
   "id": "33944bc2-73b3-4ebd-be05-4da8cf19f24e",
   "metadata": {},
   "outputs": [],
   "source": []
  }
 ],
 "metadata": {
  "kernelspec": {
   "display_name": "Python 3 (ipykernel)",
   "language": "python",
   "name": "python3"
  },
  "language_info": {
   "codemirror_mode": {
    "name": "ipython",
    "version": 3
   },
   "file_extension": ".py",
   "mimetype": "text/x-python",
   "name": "python",
   "nbconvert_exporter": "python",
   "pygments_lexer": "ipython3",
   "version": "3.11.1"
  }
 },
 "nbformat": 4,
 "nbformat_minor": 5
}
