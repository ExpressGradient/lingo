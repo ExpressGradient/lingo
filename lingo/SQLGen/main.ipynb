{
 "cells": [
  {
   "cell_type": "code",
   "execution_count": 6,
   "id": "c2f71e19-ae63-4b2f-afdc-921221b2347a",
   "metadata": {},
   "outputs": [],
   "source": [
    "import tiktoken\n",
    "import torch\n",
    "import torch.nn as nn"
   ]
  },
  {
   "cell_type": "code",
   "execution_count": 11,
   "id": "9d39aa44-63e9-4054-9b4f-f333327ac8c4",
   "metadata": {},
   "outputs": [],
   "source": [
    "encoding_model = tiktoken.get_encoding('p50k_base')"
   ]
  },
  {
   "cell_type": "code",
   "execution_count": 13,
   "id": "1c33c21a-07c6-4d68-80a3-09403d2a64b1",
   "metadata": {},
   "outputs": [],
   "source": [
    "vocab_size = encoding_model.n_vocab"
   ]
  },
  {
   "cell_type": "code",
   "execution_count": 14,
   "id": "ce8db70c-b125-4a83-a0b7-e8e20d16b917",
   "metadata": {},
   "outputs": [],
   "source": [
    "embedding_layer = nn.Embedding(vocab_size, 512)"
   ]
  },
  {
   "cell_type": "code",
   "execution_count": 21,
   "id": "6cac49fb-9377-4826-aaee-eac348bbe457",
   "metadata": {},
   "outputs": [],
   "source": [
    "sample_encoding = encoding_model.encode('SELECT * FROM sales')"
   ]
  },
  {
   "cell_type": "code",
   "execution_count": 25,
   "id": "97da915d-eee5-41a1-9de2-10910d6b6d02",
   "metadata": {},
   "outputs": [
    {
     "data": {
      "text/plain": [
       "[46506, 1635, 16034, 4200]"
      ]
     },
     "execution_count": 25,
     "metadata": {},
     "output_type": "execute_result"
    }
   ],
   "source": [
    "sample_encoding"
   ]
  },
  {
   "cell_type": "code",
   "execution_count": 23,
   "id": "eee33b64-c5e3-462c-9d9d-46553db6ed61",
   "metadata": {},
   "outputs": [],
   "source": [
    "sample_embedding = embedding_layer(torch.tensor(sample_encoding))"
   ]
  },
  {
   "cell_type": "code",
   "execution_count": 24,
   "id": "25085a8f-f460-4cd5-8396-33d6f37e04b3",
   "metadata": {},
   "outputs": [
    {
     "data": {
      "text/plain": [
       "torch.Size([4, 512])"
      ]
     },
     "execution_count": 24,
     "metadata": {},
     "output_type": "execute_result"
    }
   ],
   "source": [
    "sample_embedding.shape"
   ]
  },
  {
   "cell_type": "code",
   "execution_count": null,
   "id": "26acae0c-3c7c-44a2-937a-3a9b37b94671",
   "metadata": {},
   "outputs": [],
   "source": []
  }
 ],
 "metadata": {
  "kernelspec": {
   "display_name": "Python 3 (ipykernel)",
   "language": "python",
   "name": "python3"
  },
  "language_info": {
   "codemirror_mode": {
    "name": "ipython",
    "version": 3
   },
   "file_extension": ".py",
   "mimetype": "text/x-python",
   "name": "python",
   "nbconvert_exporter": "python",
   "pygments_lexer": "ipython3",
   "version": "3.11.1"
  }
 },
 "nbformat": 4,
 "nbformat_minor": 5
}
