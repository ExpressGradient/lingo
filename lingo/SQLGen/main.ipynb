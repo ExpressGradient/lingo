{
 "cells": [
  {
   "cell_type": "code",
   "execution_count": 43,
   "id": "c2f71e19-ae63-4b2f-afdc-921221b2347a",
   "metadata": {},
   "outputs": [],
   "source": [
    "import torch\n",
    "import torch.nn as nn\n",
    "import torch.nn.functional as F\n",
    "\n",
    "import lightning as L\n",
    "\n",
    "import tiktoken"
   ]
  },
  {
   "cell_type": "code",
   "execution_count": 29,
   "id": "3c9dfd97-769c-4e5e-9c38-b4edb433b9e7",
   "metadata": {},
   "outputs": [],
   "source": [
    "encodings = tiktoken.get_encoding('p50k_base')"
   ]
  },
  {
   "cell_type": "code",
   "execution_count": 51,
   "id": "9fa85a78-1b2c-4bc9-bd98-30924d10c41f",
   "metadata": {},
   "outputs": [],
   "source": [
    "# CONFIG\n",
    "\n",
    "vocab_size = encodings.n_vocab\n",
    "embed_dim = 256\n",
    "max_seq_len = 512\n",
    "heads = 4\n",
    "stacks = 4"
   ]
  },
  {
   "cell_type": "code",
   "execution_count": 57,
   "id": "26acae0c-3c7c-44a2-937a-3a9b37b94671",
   "metadata": {},
   "outputs": [],
   "source": [
    "class SQLGen(L.LightningModule):\n",
    "    def __init__(self, vocab_size, embed_dim, max_seq_len, num_heads, num_stacks):\n",
    "        super().__init__()\n",
    "\n",
    "        self.num_heads = num_heads\n",
    "        self.head_dim = embed_dim // num_heads\n",
    "        \n",
    "        self.token_embeddings = nn.Embedding(vocab_size, embed_dim)\n",
    "        self.position_embeddings = nn.Embedding(max_seq_len, embed_dim)\n",
    "\n",
    "        self.query = nn.ModuleList([nn.Linear(embed_dim, embed_dim) for _ in range(num_stacks)])\n",
    "        self.key = nn.ModuleList([nn.Linear(embed_dim, embed_dim) for _ in range(num_stacks)])\n",
    "        self.value = nn.ModuleList([nn.Linear(embed_dim, embed_dim) for _ in range(num_stacks)])\n",
    "\n",
    "        self.final_attn_linear = nn.ModuleList([nn.Linear(embed_dim, embed_dim) for _ in range(num_stacks)])\n",
    "\n",
    "        self.pt_wise_ffn = nn.ModuleList([nn.Sequential(\n",
    "            nn.Linear(embed_dim, embed_dim * 4), \n",
    "            nn.ReLU(), \n",
    "            nn.Linear(embed_dim * 4, embed_dim)\n",
    "        ) for _ in range(num_stacks)])\n",
    "\n",
    "        self.layer_norm_1 = nn.ModuleList([nn.LayerNorm(embed_dim) for _ in range(num_stacks)])\n",
    "        self.layer_norm_2 = nn.ModuleList([nn.LayerNorm(embed_dim) for _ in range(num_stacks)])\n",
    "\n",
    "        self.output_projection = nn.Linear(embed_dim, vocab_size)\n",
    "\n",
    "    def forward(self, x):\n",
    "        token_embeds = self.token_embeddings(x)\n",
    "\n",
    "        positions = torch.arange(0, x.size(1), device=x.device).expand(x.size(0), x.size(1))\n",
    "        position_embeds = self.position_embeddings(positions)\n",
    "\n",
    "        x = token_embeds + position_embeds\n",
    "\n",
    "        for i in range(len(self.query)):\n",
    "            x = self.layer_norm_1[i](embeds)\n",
    "            residual = x\n",
    "\n",
    "            batch_size = layer_norm_embeds.size(0)\n",
    "            seq_length = layer_norm_embeds.size(1)\n",
    "\n",
    "            Q = self.query[i](x).view(batch_size, seq_length, self.num_heads, self.head_dim).transpose(1, 2)\n",
    "            K = self.key[i](x).view(batch_size, seq_length, self.num_heads, self.head_dim).transpose(1, 2)\n",
    "            V = self.value[i](x).view(batch_size, seq_length, self.num_heads, self.head_dim).transpose(1, 2)\n",
    "\n",
    "            scores = torch.matmul(Q, K.transpose(-2, -1)) / (self.head_dim ** 0.5)\n",
    "            mask = torch.triu(torch.ones(scores.size(1), scores.size(1), device=x.device) * float('-inf'), diagonal=1)\n",
    "            scores += mask.unsqueeze(0).unsqueeze(0)\n",
    "\n",
    "            attn_weights = F.softmax(scores, dim=-1)\n",
    "        \n",
    "            x = torch.matmul(attn_weights, V)\n",
    "            x = x.transpose(1, 2).contiguous().view(batch_size, seq_length, -1)\n",
    "            x = self.final_attn_linear(x)\n",
    "\n",
    "            x += residual\n",
    "            x = self.layer_norm_2[i](x)\n",
    "\n",
    "            residual = x\n",
    "            x = self.pt_wise_ffn[i](x)\n",
    "            x += residual\n",
    "\n",
    "        return x"
   ]
  },
  {
   "cell_type": "code",
   "execution_count": null,
   "id": "33944bc2-73b3-4ebd-be05-4da8cf19f24e",
   "metadata": {},
   "outputs": [],
   "source": []
  }
 ],
 "metadata": {
  "kernelspec": {
   "display_name": "Python 3 (ipykernel)",
   "language": "python",
   "name": "python3"
  },
  "language_info": {
   "codemirror_mode": {
    "name": "ipython",
    "version": 3
   },
   "file_extension": ".py",
   "mimetype": "text/x-python",
   "name": "python",
   "nbconvert_exporter": "python",
   "pygments_lexer": "ipython3",
   "version": "3.11.1"
  }
 },
 "nbformat": 4,
 "nbformat_minor": 5
}
